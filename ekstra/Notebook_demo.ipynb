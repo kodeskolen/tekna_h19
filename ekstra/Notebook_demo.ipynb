{
 "cells": [
  {
   "cell_type": "markdown",
   "metadata": {},
   "source": [
    "# Interaktiv programmering med Jupyter Notebooks\n",
    "I en Jupyter notebook kan vi blande tekst med programmering i en interaktiv måte.\n",
    "\n",
    "Måten notebooks fungerer på er at man fordeler koden og teksten i celler. Denne teksten her, for eksempel, er skrevet i en tekstcelle, eller mer nøyaktig, en *Markdown celle*. Markdown er et formatteringsspråk hvor man kan kode hvordan teksten skal se ut. For eksempel kan du for eksempel dobbeltklikke på denne teksten. For å formatere teksten fint igjen kan du trykke på knappen det står \"run\" på over, evt trykke på `<SHIFT>` og `<ENTER>` samtidig. Mer grundig informasjon om markdown kan du finne [her](http://www.markdowntutorial.com/).\n",
    "\n",
    "Under denne tekstcellen, ser du en kodecelle. I disse cellene så kan vi skrive Pythonkode. For å kjøre koden i en kodecelle så er det nok å trykke på den, og så trykke på \"run\" knappen over. Igjen så kan du trykke på `<SHIFT>` og `<ENTER>` samtidig istedenfor å trykke på \"run\" knappen."
   ]
  },
  {
   "cell_type": "code",
   "execution_count": 72,
   "metadata": {},
   "outputs": [
    {
     "name": "stdout",
     "output_type": "stream",
     "text": [
      "Volumet av en kule med radius 1.1 er 5.6\n"
     ]
    }
   ],
   "source": [
    "from math import pi\n",
    "\n",
    "radius = 1.1 #cm\n",
    "\n",
    "volum = (4/3)*pi*radius**3\n",
    "\n",
    "print(f'Volumet av en kule med radius {radius} er {volum:.1f}')"
   ]
  },
  {
   "cell_type": "markdown",
   "metadata": {},
   "source": [
    "### Rekkefølgen man kjører cellene i\n",
    "En Jupyter Notebook husker hvor Python-koden slapp etter forrige kode du kjørte. Kjør cellen under så skal vi se litt nærmere på dette."
   ]
  },
  {
   "cell_type": "code",
   "execution_count": 74,
   "metadata": {},
   "outputs": [],
   "source": [
    "navn = 'Marie'"
   ]
  },
  {
   "cell_type": "markdown",
   "metadata": {},
   "source": [
    "Her har vi opprettett en variabel `navn` med verdi `'Marie'`. Siden Jupyter husker hvor Python var etter forrige celle, så kan vi kjøre cellen under uten problem."
   ]
  },
  {
   "cell_type": "code",
   "execution_count": 77,
   "metadata": {},
   "outputs": [
    {
     "name": "stdout",
     "output_type": "stream",
     "text": [
      "Vigdis\n"
     ]
    }
   ],
   "source": [
    "print(navn)"
   ]
  },
  {
   "cell_type": "markdown",
   "metadata": {},
   "source": [
    "Her kan det godt gå litt i surr, siden Jupyter husker koden som sist ble kjørt, ikke koden i den rekkefølgene cellene er i. Kjør cellen under og så cellen over etter hverandre og se!"
   ]
  },
  {
   "cell_type": "code",
   "execution_count": 78,
   "metadata": {},
   "outputs": [],
   "source": [
    "navn = 'Vigdis'"
   ]
  },
  {
   "cell_type": "markdown",
   "metadata": {},
   "source": [
    "For å forhindre at det går i kluss, kan det være lurt å få Jupyter til å glemme all Pythonkoden den har kjørt av og til. Dette gjør vi ved å trykke på \"Kernel\" menyen over og velge \"Restart & Run all\". Dette vil restarte Jupyter sin hukommelse i denne notebooken og kjøre alle cellene på nytt fra topp til bunn."
   ]
  },
  {
   "cell_type": "markdown",
   "metadata": {},
   "source": [
    "### Widgets\n",
    "En av de virkelig fine tingene med Jupyter notebooks er \"widgets\". Programmet IPython Widgets (`ipywidgets`), gjør at vi veldig enkelt kan lage interaktive program. La oss se et eksempel før vi forklarer hva som skjer.\n",
    "\n",
    "Det første vi gjør i eksempelet er å importere `interact` funksjonen fra `ipywidgets`."
   ]
  },
  {
   "cell_type": "code",
   "execution_count": 82,
   "metadata": {},
   "outputs": [],
   "source": [
    "from ipywidgets import interact"
   ]
  },
  {
   "cell_type": "markdown",
   "metadata": {},
   "source": [
    "Så kan vi begynne på vår interaktive Pythonkode!"
   ]
  },
  {
   "cell_type": "code",
   "execution_count": 84,
   "metadata": {},
   "outputs": [
    {
     "data": {
      "application/vnd.jupyter.widget-view+json": {
       "model_id": "70e756a7a47b45d7a82a447d58b5f57b",
       "version_major": 2,
       "version_minor": 0
      },
      "text/plain": [
       "interactive(children=(FloatSlider(value=5.0, description='radius', max=10.0), Output()), _dom_classes=('widget…"
      ]
     },
     "metadata": {},
     "output_type": "display_data"
    },
    {
     "data": {
      "text/plain": [
       "<function __main__.skriv_ut_volum(radius)>"
      ]
     },
     "execution_count": 84,
     "metadata": {},
     "output_type": "execute_result"
    }
   ],
   "source": [
    "def skriv_ut_volum(radius):\n",
    "    # Regn ut volumet til en kule med gitt radius\n",
    "    # og skriv det ut som en beskjed\n",
    "    volum = (4/3)*pi*radius**3\n",
    "    print(f'Volumet av en kule med radius {radius} er {volum:.1f}')\n",
    "\n",
    "interact(skriv_ut_volum, radius=(0.0, 10.0))"
   ]
  },
  {
   "cell_type": "markdown",
   "metadata": {},
   "source": [
    "Det som skjer her, er at vi definerer en funksjon `skriv_ut_volum`. Denne funksjonen tar ett tall, `radius` som input, og regner ut volumet til en kule med gitt radius. Så skrives en beskjed ut til brukeren, med verdien til både radiusen og volumet til kula med den gitte radiusen.\n",
    "\n",
    "Så skjer det noe interessant! Vi kaller på `interact` funksjonen, men bruker `skriv_ut_volum` funksjonen som input. Vi kan altså ha funksjoner som tar funksjoner som input. I tillegg til `skriv_ut_volum`-inputen, så skriver vi `radius=(0.0, 10.0)`. `radius` er navnet på argumentet til `skriv_ut_volum` funksjonen vår, og vi vil at `radius` skal ha verdien til et desimaltall mellom 0 og 10.\n",
    "\n",
    "Nå vet IPython Widgets hvilke verdier `radius` kan ha, og oppretter dermed en widget som passer til dette. I dette tilfellet oppretter den en slider som tar desimaltall-verdier mellom 0 og 10. Hver gang verdien til denne slideren endres, så kalles `skriv_ut_volum` funksjonen på nytt, og det som printes ut til brukeren endrer seg.\n",
    "\n",
    "La oss nå se på et nytt eksempel!"
   ]
  },
  {
   "cell_type": "code",
   "execution_count": 86,
   "metadata": {},
   "outputs": [
    {
     "data": {
      "application/vnd.jupyter.widget-view+json": {
       "model_id": "a960d099bd974640a22f7ca9a35a53ba",
       "version_major": 2,
       "version_minor": 0
      },
      "text/plain": [
       "interactive(children=(Checkbox(value=False, description='er_glad'), Output()), _dom_classes=('widget-interact'…"
      ]
     },
     "metadata": {},
     "output_type": "display_data"
    },
    {
     "data": {
      "text/plain": [
       "<function __main__.glad_hilsen(er_glad)>"
      ]
     },
     "execution_count": 86,
     "metadata": {},
     "output_type": "execute_result"
    }
   ],
   "source": [
    "def glad_hilsen(er_glad):\n",
    "    if er_glad:\n",
    "        print('Jippi, du er glad!')\n",
    "    else:\n",
    "        print('Jeg skulle ønske du var glad.')\n",
    "\n",
    "interact(glad_hilsen, er_glad=False)"
   ]
  },
  {
   "cell_type": "markdown",
   "metadata": {},
   "source": [
    "Her oppretter vi nok en funksjon, denne gangen `glad_hilsen`, og mater denn inn til `interact`-funksjonen. Inputen til `glad_hilsen` er en variabel `er_glad`, som enten kan være sann (`True`), eller usann (`False`). Siden `er_glad` variabelen skal være sann/usann, så sender vi også inn navnet til denne variabelen etterfulgt med standardverdien dens.\n",
    "\n",
    "Her ser vi at IPython Widgets finner kommer frem til at hvis en variabel skal være sann/usann så skal den opprette en checkboks. Hver gang noen trykker på checkboksen så kalles funksjonen på nytt, og verdien til checkboksen sendes inn som input til `glad_hilsen` funksjonen.\n",
    "\n",
    "Vi har altså sett hva som skjer om vi har desimaltall og sann/usann-verdier som input, men hva skjer om vi gir den en liste med alternativer? La oss prøve det under!"
   ]
  },
  {
   "cell_type": "code",
   "execution_count": 88,
   "metadata": {},
   "outputs": [
    {
     "data": {
      "application/vnd.jupyter.widget-view+json": {
       "model_id": "69c3418b83ca4b9990b54424d3a0e1f0",
       "version_major": 2,
       "version_minor": 0
      },
      "text/plain": [
       "interactive(children=(Dropdown(description='funksjonstype', options=('linær', 'trigonometrisk', 'annengrad'), …"
      ]
     },
     "metadata": {},
     "output_type": "display_data"
    },
    {
     "data": {
      "text/plain": [
       "<function __main__.skriv_ut_uttrykk(funksjonstype)>"
      ]
     },
     "execution_count": 88,
     "metadata": {},
     "output_type": "execute_result"
    }
   ],
   "source": [
    "def skriv_ut_uttrykk(funksjonstype):\n",
    "    # Denne funksjonen tar inn hvilken funksjonstype vi er interessert i\n",
    "    # og skriver ut den generelle formen for slike matematiske funksjoner.\n",
    "    if funksjonstype=='linær':\n",
    "        print('y = ax + b')\n",
    "    elif funksjonstype=='trigonometrisk':\n",
    "        print('y = a sin(bx + c) + d')\n",
    "    elif funksjonstype == 'annengrad': \n",
    "        print('y = ax² + bx + c')\n",
    "    else:\n",
    "        print('Jeg vet ikke hva slags funksjon det er!')\n",
    "\n",
    "interact(skriv_ut_uttrykk, funksjonstype=['linær', 'trigonometrisk', 'annengrad'])"
   ]
  },
  {
   "cell_type": "markdown",
   "metadata": {},
   "source": [
    "Her ser vi at hvis vi gir interact funksjonen en liste, så får vi en drop-down meny med elementene i lista som alternativ. Hver gang vi endrer hvilket element vi er interesserte i fra drop-down menyen så kalles funksjonen på nytt med den valgte inputen.\n",
    "\n",
    "Men... Er det alltid nok med en input til funksjoner? Hva om vi ønsker å interaktivt endre flere verdier? La oss se på det nå"
   ]
  },
  {
   "cell_type": "code",
   "execution_count": 89,
   "metadata": {},
   "outputs": [
    {
     "data": {
      "application/vnd.jupyter.widget-view+json": {
       "model_id": "4461271ea0fa476f8f2c11a62dcfa119",
       "version_major": 2,
       "version_minor": 0
      },
      "text/plain": [
       "interactive(children=(IntSlider(value=50, description='antall_år'), FloatSlider(value=3.0, description='rente'…"
      ]
     },
     "metadata": {},
     "output_type": "display_data"
    },
    {
     "data": {
      "text/plain": [
       "<function __main__.simuler_år(antall_år, rente, innskudd)>"
      ]
     },
     "execution_count": 89,
     "metadata": {},
     "output_type": "execute_result"
    }
   ],
   "source": [
    "def simuler_år(antall_år, rente, innskudd):\n",
    "    # Simuler renteveksten på en konto som vi har gjort et\n",
    "    # engangsinnskudd med penger på.\n",
    "    rente_vekst = 1 + rente/100\n",
    "    penger = innskudd\n",
    "\n",
    "    for år in range(1, antall_år+1):\n",
    "        penger *= rente_vekst\n",
    "        \n",
    "    print(f'Etter {antall_år} år har du {penger:,.2f},-')\n",
    "\n",
    "interact(simuler_år, rente=(0.01, 5.99), antall_år=(0, 100), innskudd=(0, 1000))"
   ]
  },
  {
   "cell_type": "markdown",
   "metadata": {},
   "source": [
    "Her ser vi hvordan vi interaktivt kan endre på flere ting samtidig. Vi starter med å opprette en funksjon som tar flere input om gangen. Så sender vi den inn til `interact` funksjonen, etterfulgt med alle input-variablene til funksjonen og hvordan format input-variabelen har (slik vi har set over)."
   ]
  },
  {
   "cell_type": "markdown",
   "metadata": {},
   "source": [
    "### Interaktive plot\n",
    "Men, det stopper altså ikke der! Vi kan faktisk bruke dette til å lage interaktive plot! For å gjøre det må vi laste inn alt fra PyLab, og enkelt og greit generere plot inne i funksjonen vår. Under har vi et par eksempel."
   ]
  },
  {
   "cell_type": "code",
   "execution_count": 95,
   "metadata": {},
   "outputs": [],
   "source": [
    "from pylab import *"
   ]
  },
  {
   "cell_type": "code",
   "execution_count": 97,
   "metadata": {},
   "outputs": [
    {
     "data": {
      "application/vnd.jupyter.widget-view+json": {
       "model_id": "48043df1cf3e4ac0ba33f5e263692f02",
       "version_major": 2,
       "version_minor": 0
      },
      "text/plain": [
       "interactive(children=(FloatSlider(value=2.5, description='stigningstall', max=5.0), IntSlider(value=0, descrip…"
      ]
     },
     "metadata": {},
     "output_type": "display_data"
    },
    {
     "data": {
      "text/plain": [
       "<function __main__.plot_linje(stigningstall, skjæringspunkt)>"
      ]
     },
     "execution_count": 97,
     "metadata": {},
     "output_type": "execute_result"
    }
   ],
   "source": [
    "def linje(stigningstall, skjæringspunkt, x):\n",
    "    # En lineærfunksjon på formen ax - b, hvor a er gitt ved\n",
    "    # stigningstallet og b er gitt ved stigningstallet ganget med\n",
    "    # skjæringspunktet \n",
    "    return stigningstall*(x - skjæringspunkt)\n",
    "\n",
    "def plot_linje(stigningstall, skjæringspunkt):\n",
    "    # Plott en lineærfunksjon med gitt stigningstall og skjæringspunkt\n",
    "    x = arange(-20, 20)\n",
    "    axhline(0, color='black')\n",
    "    axvline(0, color='black')\n",
    "    \n",
    "    plot(x, linje(stigningstall, skjæringspunkt, x))\n",
    "    xlim(-10, 10)\n",
    "    ylim(-10, 10)\n",
    "\n",
    "    \n",
    "interact(plot_linje, stigningstall=(0,5.), skjæringspunkt=(-50,50))"
   ]
  },
  {
   "cell_type": "code",
   "execution_count": 99,
   "metadata": {},
   "outputs": [
    {
     "data": {
      "application/vnd.jupyter.widget-view+json": {
       "model_id": "8330ad1262c840dbb4b0f251295c2b0a",
       "version_major": 2,
       "version_minor": 0
      },
      "text/plain": [
       "interactive(children=(FloatSlider(value=1.0, description='a', max=2.0), FloatSlider(value=0.0, description='b'…"
      ]
     },
     "metadata": {},
     "output_type": "display_data"
    },
    {
     "data": {
      "text/plain": [
       "<function __main__.plot_annengrad(a, b, c)>"
      ]
     },
     "execution_count": 99,
     "metadata": {},
     "output_type": "execute_result"
    }
   ],
   "source": [
    "def annengrad(a, b, c, x):\n",
    "    # Annengradsfunksjon på formen a*x² + bx + c\n",
    "    return a*x**2 + b*x + c\n",
    "\n",
    "def annengrad_løsning(a, b, c): \n",
    "    # Finn røttene til en annengradsfunksjon\n",
    "    rot = b**2-4*a*c\n",
    "    if rot < 0:\n",
    "        return None, None\n",
    "    \n",
    "    løsning1 = (-b + sqrt(rot))/(2*a)    \n",
    "    løsning2 = (-b - sqrt(rot))/(2*a)\n",
    "    return løsning1, løsning2\n",
    "\n",
    "def plot_annengrad(a, b, c):\n",
    "    # Plott en annengradsfunksjon og vis hvor røttene er med røde prikker\n",
    "    x = arange(-10, 10, 0.1)\n",
    "    axhline(0, color='black')\n",
    "    axvline(0, color='black')\n",
    "    \n",
    "    plot(x, annengrad(a, b, c, x))\n",
    "    xlim(-10, 10)\n",
    "    ylim(-10, 10)\n",
    "    \n",
    "    null1, null2 = annengrad_løsning(a, b, c)\n",
    "    if null1 is None:\n",
    "        title('Det finnes ingen reel løsning!')\n",
    "    else:\n",
    "        title(f'Nullpunkt 1: {null1:.2f}, Nullpunkt 2: {null2:.2f}')\n",
    "        plot(null1,  annengrad(a, b, c, null1), 'ro')\n",
    "        plot(null2,  annengrad(a, b, c, null2), 'ro')\n",
    "    \n",
    "\n",
    "interact(plot_annengrad, a=(0,2.), b=(-7.,7.), c=(-10,10))"
   ]
  },
  {
   "cell_type": "markdown",
   "metadata": {},
   "source": [
    "Her er det altså bare fantasien som setter grenser!\n",
    "\n",
    "## Mer om IPython Widgets\n",
    "\n",
    "IPython Widgets er en veldig fin måte å lage interaktive program, uten å tenke mye på hvordan man skal lage et grafisk brukergrensesnitt. Her har vi bare sett så vidt på hva vi kan få til med `interact` funksjonen, men det er mulig å lage mye mer kompliserte verktøy også! For å lære om det får du bare lese dokumentasjonen, som ligger [her](https://ipywidgets.readthedocs.io/en/latest/examples/Using%20Interact.html).\n",
    "\n",
    "## Trege plot\n",
    "\n",
    "Dessverre bruker disse interaktive plottene litt lang tid på å oppdatere seg. Grunnen til det er at vi hele tiden lager nye figurer og nye bilder før vi erstatter de gamle bildene med de nye. Dette er jo veldig tungvint, og vi kan faktisk lage sanne interaktive plott, hvor vi modifiserer gamle plott istedenfor å lage nye!\n",
    "\n",
    "Dessverre er det litt mer komplisert enn det jeg har muligheten til å forklare i denne notebooken, men hvis du er interessert kan du søke på internett etter \"interactive matplotlib in notebooks\" (matplotlib er plottebiblioteket som brukes av pylab). Et eksempel er [her](https://stackoverflow.com/questions/44329068/jupyter-notebook-interactive-plot-with-widgets.\n",
    "\n",
    "God koding!"
   ]
  },
  {
   "cell_type": "code",
   "execution_count": null,
   "metadata": {},
   "outputs": [],
   "source": []
  }
 ],
 "metadata": {
  "kernelspec": {
   "display_name": "Python 3",
   "language": "python",
   "name": "python3"
  },
  "language_info": {
   "codemirror_mode": {
    "name": "ipython",
    "version": 3
   },
   "file_extension": ".py",
   "mimetype": "text/x-python",
   "name": "python",
   "nbconvert_exporter": "python",
   "pygments_lexer": "ipython3",
   "version": "3.7.4"
  }
 },
 "nbformat": 4,
 "nbformat_minor": 2
}
